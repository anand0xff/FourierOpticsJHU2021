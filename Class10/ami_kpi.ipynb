{
 "cells": [
  {
   "cell_type": "markdown",
   "metadata": {},
   "source": [
    "# From aperture masking to kernel-phase\n",
    "Author: Dr. Jens Kammerer\n",
    "\n",
    "In the beginning of this notebook, you will find a few examples which we will go through during the lecture. Further down, you will find some problems that you should try to solve on your own.\n",
    "\n",
    "The goal of this notebook is to recall some basics about Fourier plane imaging and then to develop an understanding of the aperture masking and kernel-phase interferometry techniques.\n",
    "\n",
    "## The point-spread function (PSF)\n",
    "\n",
    "The object intensity distribution of a single star is a Dirac delta function:"
   ]
  },
  {
   "cell_type": "code",
   "execution_count": null,
   "metadata": {},
   "outputs": [],
   "source": [
    "import astropy.io.fits as pyfits\n",
    "import matplotlib.pyplot as plt\n",
    "import numpy as np"
   ]
  },
  {
   "cell_type": "code",
   "execution_count": null,
   "metadata": {},
   "outputs": [],
   "source": [
    "OID = np.zeros((100, 100)) # an empty 100 x 100 image\n",
    "OID[50, 50] = 1. # we put a point source with flux normalized to 1 in the center\n",
    "\n",
    "# Plotting...\n",
    "plt.imshow(OID, origin='lower')\n",
    "plt.colorbar()\n",
    "plt.show()"
   ]
  },
  {
   "cell_type": "markdown",
   "metadata": {},
   "source": [
    "Its Fourier transform is the Fourier transform of a Dirac delta function which is 1, i.e., has an absolute value of 1 and a phase value of 0 (remember, Fourier transforms are complex):"
   ]
  },
  {
   "cell_type": "code",
   "execution_count": null,
   "metadata": {},
   "outputs": [],
   "source": [
    "OID_FT = np.fft.fftshift(np.fft.fft2(np.fft.fftshift(OID))) # compute FT assuming that central pixel is origin\n",
    "\n",
    "# Plotting...\n",
    "f, ax = plt.subplots(1, 2, figsize=(2*6.4, 1*4.8))\n",
    "p0 = ax[0].imshow(np.abs(OID_FT), origin='lower', vmin=0, vmax=1)\n",
    "plt.colorbar(p0, ax=ax[0])\n",
    "ax[0].set_title('Fourier amplitude')\n",
    "p1 = ax[1].imshow(np.angle(OID_FT), origin='lower', vmin=-np.pi, vmax=np.pi)\n",
    "plt.colorbar(p1, ax=ax[1])\n",
    "ax[1].set_title('Fourier phase')\n",
    "plt.show()"
   ]
  },
  {
   "cell_type": "markdown",
   "metadata": {},
   "source": [
    "NOTE: fftshift considers sz/2 as the image center, although technically the image center is (sz-1)/2.\n",
    "\n",
    "The object intensity distribution of a binary star are two Dirac delta functions:"
   ]
  },
  {
   "cell_type": "code",
   "execution_count": null,
   "metadata": {},
   "outputs": [],
   "source": [
    "OID = np.zeros((100, 100)) # an empty 100 x 100 image\n",
    "OID[50, 50] = 1. # we put a point source with flux normalized to 1 in the center\n",
    "OID[45, 50] = 0.1 # we put a second point source with smaller flux somewhere near the primary\n",
    "\n",
    "# Plotting...\n",
    "plt.imshow(OID, origin='lower')\n",
    "plt.colorbar()\n",
    "plt.show()"
   ]
  },
  {
   "cell_type": "markdown",
   "metadata": {},
   "source": [
    "In the high contrast regime, its Fourier transform is a sine wave whose amplitude depends on the contrast and whose wavelength and direction depend on the separation:"
   ]
  },
  {
   "cell_type": "code",
   "execution_count": null,
   "metadata": {
    "scrolled": true
   },
   "outputs": [],
   "source": [
    "OID_FT = np.fft.fftshift(np.fft.fft2(np.fft.fftshift(OID))) # compute FT assuming that central pixel is origin\n",
    "\n",
    "# Plotting...\n",
    "f, ax = plt.subplots(1, 2, figsize=(2*6.4, 1*4.8))\n",
    "p0 = ax[0].imshow(np.abs(OID_FT), origin='lower')\n",
    "plt.colorbar(p0, ax=ax[0])\n",
    "ax[0].set_title('Fourier amplitude')\n",
    "p1 = ax[1].imshow(np.angle(OID_FT), origin='lower')\n",
    "plt.colorbar(p1, ax=ax[1])\n",
    "ax[1].set_title('Fourier phase')\n",
    "plt.show()"
   ]
  },
  {
   "cell_type": "markdown",
   "metadata": {},
   "source": [
    "The wavelength is given by 1/n, where n is the fractional separation with respect to the image size. In this case, the image size is 100 and the separation is 5, so that the fractional separation is 5/100 = 0.05 and the wavelength is 1/0.05 = 20. The amplitude of the wave is roughly the contrast, here 0.1/1 = 0.1 (in both amplitude and phase). The direction of the wave is given by the direction of the separation vector.\n",
    "\n",
    "The following data contains the image of a PSF reference star (i.e., a single star) observed with one of the world's largest telescopes. How does its OTF look like?"
   ]
  },
  {
   "cell_type": "code",
   "execution_count": null,
   "metadata": {},
   "outputs": [],
   "source": [
    "# Opening data from a FITS file...\n",
    "hdul = pyfits.open('n0010.fits')\n",
    "data = hdul[0].data\n",
    "hdul.close()\n",
    "\n",
    "# Plotting...\n",
    "f, ax = plt.subplots(1, 2, figsize=(2*6.4, 1*4.8))\n",
    "p0 = ax[0].imshow(data, origin='lower')\n",
    "plt.colorbar(p0, ax=ax[0])\n",
    "ax[0].set_title('Image')\n",
    "p1 = ax[1].imshow(np.log10(np.abs(data)), origin='lower')\n",
    "plt.colorbar(p1, ax=ax[1])\n",
    "ax[1].set_title('Image in log stretch')\n",
    "plt.show()"
   ]
  },
  {
   "cell_type": "markdown",
   "metadata": {},
   "source": [
    "Since the data contains only the image of a single star, its Fourier transform is directly equivalent to the optical transfer function of the telescope (remember the auto-correlation theorem):"
   ]
  },
  {
   "cell_type": "code",
   "execution_count": null,
   "metadata": {},
   "outputs": [],
   "source": [
    "OTF = np.fft.fftshift(np.fft.fft2(np.fft.fftshift(data))) # compute FT assuming that central pixel is origin\n",
    "\n",
    "# Plotting...\n",
    "f, ax = plt.subplots(1, 2, figsize=(2*6.4, 1*4.8))\n",
    "p0 = ax[0].imshow(np.log10(np.abs(OTF)), origin='lower')\n",
    "plt.colorbar(p0, ax=ax[0])\n",
    "ax[0].set_title('Fourier amplitude in log stretch')\n",
    "p1 = ax[1].imshow(np.angle(OTF), origin='lower')\n",
    "plt.colorbar(p1, ax=ax[1])\n",
    "ax[1].set_title('Fourier phase')\n",
    "plt.show()"
   ]
  },
  {
   "cell_type": "markdown",
   "metadata": {},
   "source": [
    "The Fourier power (in logarithmic color scale) and the Fourier phase clearly show a hexagonal shape. The data comes from Keck!\n",
    "\n",
    "## Aperture masking interferometry (AMI)\n",
    "\n",
    "As shown during the lecture, if we write the equations for the Fourier phase in matrix form, we can also search for linear combinations that cancel out the phase error terms by computing the left null space (or kernel) of the matrix A. Numerically, this can be done using a singular value decomposition:"
   ]
  },
  {
   "cell_type": "code",
   "execution_count": null,
   "metadata": {},
   "outputs": [],
   "source": [
    "A = np.array([[-1, 1, 0], [0, -1, 1], [1, 0, -1]]) # this is the A matrix from the closure-phase equation\n",
    "U, s, Vh = np.linalg.svd(A.T, full_matrices=True) # using numpy, we compute its singular value decomposition (SVD)\n",
    "print('The unitary matrix U:')\n",
    "print(U)\n",
    "print('The singular values of A:')\n",
    "print(s)\n",
    "print('The unitary matrix Vh:')\n",
    "print(Vh)"
   ]
  },
  {
   "cell_type": "markdown",
   "metadata": {},
   "source": [
    "The left null space (or kernel) of the matrix A is given by the columns of Vh that correspond to the zero singular values:"
   ]
  },
  {
   "cell_type": "code",
   "execution_count": null,
   "metadata": {},
   "outputs": [],
   "source": [
    "ww = np.where(np.abs(s) < 1e-10)[0] # find the zero singular values of A\n",
    "print(ww)\n",
    "K = Vh[ww, :] # this is the kernel of A\n",
    "print(K)"
   ]
  },
  {
   "cell_type": "markdown",
   "metadata": {},
   "source": [
    "The matrix K now contains basis vectors for the Fourier phase that cancel out the phase error terms. Here, there is only one such basis vector, and it is (0.577, 0.577, 0.577). This means that t*(0.577*phi1+0.577phi2+0.577phi3) is something that is independent of the phase error terms. We can run the check:"
   ]
  },
  {
   "cell_type": "code",
   "execution_count": null,
   "metadata": {},
   "outputs": [],
   "source": [
    "np.dot(K, A)"
   ]
  },
  {
   "cell_type": "markdown",
   "metadata": {},
   "source": [
    "which returns the zero vector (+ some numerical error). Indeed, we found the left null space of A!\n",
    "\n",
    "Let's have a look at how interferometry increases the spatial resolution from $\\sim\\lambda/D$ to $\\sim\\lambda/(2D)$:"
   ]
  },
  {
   "cell_type": "code",
   "execution_count": null,
   "metadata": {},
   "outputs": [],
   "source": [
    "ramp = np.arange(512)-512/2.\n",
    "# print(ramp)\n",
    "xx, yy = np.meshgrid(ramp, ramp)\n",
    "dist = np.sqrt(xx**2+yy**2)\n",
    "\n",
    "# Compute single dish pupil...\n",
    "pupil_single = dist < 32\n",
    "psf_single = np.abs(np.fft.fftshift(np.fft.fft2(np.fft.fftshift(pupil_single))))**2\n",
    "\n",
    "# Plotting...\n",
    "f, ax = plt.subplots(1, 2, figsize=(2*6.4, 1*4.8))\n",
    "p0 = ax[0].imshow(pupil_single[206:306, 206:306], origin='lower')\n",
    "plt.colorbar(p0, ax=ax[0])\n",
    "ax[0].set_title('Pupil')\n",
    "p1 = ax[1].imshow(np.log10(psf_single[236:276, 236:276]), origin='lower')\n",
    "plt.colorbar(p1, ax=ax[1])\n",
    "ax[1].set_title('Point-spread function')\n",
    "plt.show()"
   ]
  },
  {
   "cell_type": "code",
   "execution_count": null,
   "metadata": {},
   "outputs": [],
   "source": [
    "ramp2 = np.arange(512)-512/2.-28.\n",
    "xx, yy = np.meshgrid(ramp2, ramp)\n",
    "dist1 = np.sqrt(xx**2+yy**2)\n",
    "ramp2 = np.arange(512)-512/2.+28.\n",
    "xx, yy = np.meshgrid(ramp2, ramp)\n",
    "dist2 = np.sqrt(xx**2+yy**2)\n",
    "\n",
    "# Compute two aperture interferometer...\n",
    "pupil_double = (dist1 < 4) | (dist2 < 4)\n",
    "psf_double = np.abs(np.fft.fftshift(np.fft.fft2(np.fft.fftshift(pupil_double))))**2\n",
    "\n",
    "# Plotting...\n",
    "f, ax = plt.subplots(1, 2, figsize=(2*6.4, 1*4.8))\n",
    "p0 = ax[0].imshow(pupil_double[206:306, 206:306], origin='lower')\n",
    "plt.colorbar(p0, ax=ax[0])\n",
    "ax[0].set_title('Pupil')\n",
    "p1 = ax[1].imshow(np.log10(psf_double[236:276, 236:276]), origin='lower')\n",
    "plt.colorbar(p1, ax=ax[1])\n",
    "ax[1].set_title('Point-spread function')\n",
    "plt.show()"
   ]
  },
  {
   "cell_type": "markdown",
   "metadata": {},
   "source": [
    "The peak to zero distance for the Airy pattern is 1.2 lambda/D, whereas it is lambda/2B for an interferometer!"
   ]
  },
  {
   "cell_type": "code",
   "execution_count": null,
   "metadata": {},
   "outputs": [],
   "source": [
    "pupil_temp = np.zeros(pupil_single.shape)\n",
    "pupil_temp[:, :256] = pupil_single[:, :256]/np.max(pupil_single[:, :256])\n",
    "pupil_temp[:, 256:] = pupil_double[:, 256:]/np.max(pupil_double[:, 256:])\n",
    "psf_temp = np.zeros(psf_single.shape)\n",
    "psf_temp[:, :256] = psf_single[:, :256]\n",
    "psf_temp[:, 256:] = psf_double[:, 256:]\n",
    "\n",
    "# Plotting...\n",
    "f, ax = plt.subplots(1, 2, figsize=(2*6.4, 1*4.8))\n",
    "p0 = ax[0].imshow(pupil_temp[206:306, 206:306], origin='lower')\n",
    "plt.colorbar(p0, ax=ax[0])\n",
    "ax[0].set_title('Pupil')\n",
    "p1 = ax[1].imshow(np.log10(psf_temp[236:276, 236:276]), origin='lower')\n",
    "plt.colorbar(p1, ax=ax[1])\n",
    "ax[1].set_title('Point-spread function')\n",
    "plt.show()"
   ]
  },
  {
   "cell_type": "markdown",
   "metadata": {},
   "source": [
    "## Kernel-phase interferometry (KPI)\n",
    "\n",
    "Next, we will look at some kernel-phase data and investigate the properties of kernel-phase. We have kernel-phase data from two different objects, one is a PSF reference star and one is a binary star. Which one is which?\n",
    "\n",
    "As we have learnt during the lecture, the kernel-phase of a point source should theoretically be zero. Instead, the kernel-phase of a binary star should be non-zero. The easiest way to find out which one is which is to make a histogram of the kernel-phase data and to check which one is closer to zero:"
   ]
  },
  {
   "cell_type": "code",
   "execution_count": null,
   "metadata": {},
   "outputs": [],
   "source": [
    "# Opening data from a FITS file...\n",
    "hdul1 = pyfits.open('n0258.fits')\n",
    "hdul2 = pyfits.open('n0438.fits')\n",
    "\n",
    "# The kernel-phase data is stored in the KP-DATA extension...\n",
    "kp1 = hdul1['KP-DATA'].data[0, 0]\n",
    "kp2 = hdul2['KP-DATA'].data[0, 0]\n",
    "\n",
    "# Plotting...\n",
    "f = plt.figure()\n",
    "ax = plt.gca()\n",
    "ax.hist(kp1, bins=20, range=(-3, 3), alpha=0.5, label='first')\n",
    "ax.hist(kp2, bins=20, range=(-3, 3), alpha=0.5, label='second')\n",
    "ax.set_xlabel('Kernel-phase')\n",
    "ax.set_ylabel('Number')\n",
    "ax.legend()\n",
    "plt.show()"
   ]
  },
  {
   "cell_type": "markdown",
   "metadata": {},
   "source": [
    "It is quite obvious that the second one is the PSF reference star while the first one is the binary star. Let's compare their Fourier phase data next:"
   ]
  },
  {
   "cell_type": "code",
   "execution_count": null,
   "metadata": {},
   "outputs": [],
   "source": [
    "# The complex visibility data is stored in the CVIS-DATA extension...\n",
    "cvis1 = hdul1['CVIS-DATA'].data[0, 0, 0]+1.0j*hdul1['CVIS-DATA'].data[1, 0, 0]\n",
    "cvis2 = hdul2['CVIS-DATA'].data[0, 0, 0]+1.0j*hdul2['CVIS-DATA'].data[1, 0, 0]\n",
    "\n",
    "# The Fourier phase is simply the phase of the complex visibility...\n",
    "fp1 = np.angle(cvis1)\n",
    "fp2 = np.angle(cvis2)\n",
    "\n",
    "# Plotting...\n",
    "f = plt.figure()\n",
    "ax = plt.gca()\n",
    "ax.hist(fp1, bins=20, range=(-1.5, 1.5), alpha=0.5, label='first')\n",
    "ax.hist(fp2, bins=20, range=(-1.5, 1.5), alpha=0.5, label='second')\n",
    "ax.set_xlabel('Fourier phase')\n",
    "ax.set_ylabel('Number')\n",
    "ax.legend()\n",
    "plt.show()"
   ]
  },
  {
   "cell_type": "markdown",
   "metadata": {},
   "source": [
    "Things are not that obvious anymore because the Fourier phase is affected by pupil plane phase errors, only the kernel-phase is more robust with respect to these errors. This is the advantage of using kernel-phase (or closure-phase)!"
   ]
  },
  {
   "cell_type": "markdown",
   "metadata": {},
   "source": [
    "## PROBLEMS\n",
    "\n",
    "### Problem 1\n",
    "\n",
    "In the beginning of this notebook, we considered the object intensity distribution of a single star, which is a Dirac delta function. Let's know consider a single star which is 1 pixel off-center. First, create its object intensity distribution:"
   ]
  },
  {
   "cell_type": "code",
   "execution_count": null,
   "metadata": {},
   "outputs": [],
   "source": []
  },
  {
   "cell_type": "markdown",
   "metadata": {},
   "source": [
    "Next, compute and plot the Fourier transform of its object intensity distribution:"
   ]
  },
  {
   "cell_type": "code",
   "execution_count": null,
   "metadata": {},
   "outputs": [],
   "source": []
  },
  {
   "cell_type": "markdown",
   "metadata": {},
   "source": [
    "Explain what you can see!\n",
    "\n",
    "HINT: page 1 of this document (https://ethz.ch/content/dam/ethz/special-interest/baug/ibk/structural-mechanics-dam/education/identmeth/fourier.pdf) will help.\n",
    "\n",
    "What does this mean for Fourier plane imaging? Do you think centering the data is important before extracting the Fourier observables?\n",
    "\n",
    "### Problem 2\n",
    "\n",
    "We have seen that in the high-contrast regime, the Fourier phase of a binary (i.e., two Dirac delta functions) is a sine wave with amplitude roughly equal to the contrast. Starting with the expression for the complex visibility of a binary, which is\n",
    "\n",
    "$V_\\rm{bin}(u,v) = 1+c*\\exp(-2*\\pi*i*(a*u/\\lambda+b*v/\\lambda))$,\n",
    "\n",
    "where $(u,v)$ is the spatial frequency vector and $(a,b)$ is the separation vector and $\\lambda$ is the observing wavelength, proof that the amplitude of the Fourier phase is roughly $c$ for $c \\ll 1$.\n",
    "\n",
    "HINT: as you will see, we don't really care about the expression in the $\\exp()$ function here. Simply substitute it with $x$ for better readability. Note that $\\arctan(z) \\approx z$ for $z \\ll 1$.\n",
    "\n",
    "### Problem 3\n",
    "\n",
    "The ultimate goal of the third problem is to show that (small) random errors in the pupil plane phase do not affect the kernel-phase observables. Let's start with the matrix A, which we assume to be given from our kernel-phase data set:"
   ]
  },
  {
   "cell_type": "code",
   "execution_count": null,
   "metadata": {},
   "outputs": [],
   "source": [
    "# The baseline mapping matrix A is stored in the BLM-MAT extension...\n",
    "A = hdul1['BLM-MAT'].data[:, 1:] # ignore 1. row because we can normalize all phase offsets relative to 1. aperture"
   ]
  },
  {
   "cell_type": "markdown",
   "metadata": {},
   "source": [
    "Let's check out its shape:"
   ]
  },
  {
   "cell_type": "code",
   "execution_count": null,
   "metadata": {},
   "outputs": [],
   "source": [
    "print(A.shape)"
   ]
  },
  {
   "cell_type": "markdown",
   "metadata": {},
   "source": [
    "This means that our pupil has 104 independent apertures that map onto 210 unique baselines in the Fourier plane! The apertures actually look like this:"
   ]
  },
  {
   "cell_type": "code",
   "execution_count": null,
   "metadata": {},
   "outputs": [],
   "source": [
    "xxc = hdul1['APERTURE'].data['XXC']\n",
    "yyc = hdul1['APERTURE'].data['YYC']\n",
    "\n",
    "f = plt.figure()\n",
    "ax = plt.gca()\n",
    "ax.scatter(xxc, yyc)\n",
    "ax.set_aspect('equal')\n",
    "ax.set_xlabel('Size [m]')\n",
    "ax.set_ylabel('Size [m]')\n",
    "plt.show()"
   ]
  },
  {
   "cell_type": "markdown",
   "metadata": {},
   "source": [
    "Now compute the kernel of A using singular value decomposition and look at the singular values:"
   ]
  },
  {
   "cell_type": "code",
   "execution_count": null,
   "metadata": {},
   "outputs": [],
   "source": []
  },
  {
   "cell_type": "markdown",
   "metadata": {},
   "source": [
    "There are 104 singular values, none of which is zero. However, there are 210 unique baselines, so what about the remaining 210-104 = 106 kernels? Note that since the matrix A is not square (it has more columns than rows), it has a trivial kernel. This trivial kernel are all the 106 remaining basis vectors. Hence, we append 106 zeros to the list of singular values:"
   ]
  },
  {
   "cell_type": "code",
   "execution_count": null,
   "metadata": {},
   "outputs": [],
   "source": []
  },
  {
   "cell_type": "markdown",
   "metadata": {},
   "source": [
    "Now, compute the kernel of A similar as before:"
   ]
  },
  {
   "cell_type": "code",
   "execution_count": null,
   "metadata": {},
   "outputs": [],
   "source": []
  },
  {
   "cell_type": "markdown",
   "metadata": {},
   "source": [
    "Run the test that K.A = 0:"
   ]
  },
  {
   "cell_type": "code",
   "execution_count": null,
   "metadata": {},
   "outputs": [],
   "source": []
  },
  {
   "cell_type": "markdown",
   "metadata": {},
   "source": [
    "Now that we have the matrix K, the only thing that is missing from the kernel-phase equation is the diagonal redundancy matrix R. Luckily, it is also stored in the data:"
   ]
  },
  {
   "cell_type": "code",
   "execution_count": null,
   "metadata": {},
   "outputs": [],
   "source": [
    "# The redundancy matrix R is stored in the UV-PLANE extension\n",
    "R = np.diag(hdul1['UV-PLANE'].data['RED'])"
   ]
  },
  {
   "cell_type": "markdown",
   "metadata": {},
   "source": [
    "Remember that we have the measured Fourier phase in the fp1 variable. Hence, using the kernel-phase equation, we can now compute the kernel-phase:\n",
    "\n",
    "NOTE: kerphi = K.R.phi\n",
    "\n",
    "NOTE: once you have computed the kernel-phase, you can compare it to the one that is stored in the data and was computed by XARA (https://github.com/fmartinache/xara). Remember that it is stored in the kp1 variable."
   ]
  },
  {
   "cell_type": "code",
   "execution_count": null,
   "metadata": {},
   "outputs": [],
   "source": []
  },
  {
   "cell_type": "markdown",
   "metadata": {},
   "source": [
    "If you did everything correctly, the kernel-phase that you computed is equivalent to the kernel-phase that is stored in the data! Next, we add some small random errors to the pupil plane phase and show that the kernel-phase is not affected:\n",
    "\n",
    "NOTE: there are 104 (independent) apertures in the pupil which are all affected by a random phase piston.\n",
    "\n",
    "NOTE: the Fourier phase follows from the pupil plane phase via phi = R_inv.A.varphi\n",
    "\n",
    "NOTE: the kernel-phase follows from the Fourier phase via kerphi = K.R.phi\n",
    "\n",
    "NOTE: in the end, plot the original kernel-phase kp1 and the new kernel-phase that you computed after adding the errors to the Fourier phase fp1. If you did everything correctly, they should be identical. This shows that kernel-phases are not affected by linear pupil plane phase errors."
   ]
  },
  {
   "cell_type": "code",
   "execution_count": null,
   "metadata": {},
   "outputs": [],
   "source": []
  }
 ],
 "metadata": {
  "kernelspec": {
   "display_name": "Python 3",
   "language": "python",
   "name": "python3"
  },
  "language_info": {
   "codemirror_mode": {
    "name": "ipython",
    "version": 3
   },
   "file_extension": ".py",
   "mimetype": "text/x-python",
   "name": "python",
   "nbconvert_exporter": "python",
   "pygments_lexer": "ipython3",
   "version": "3.8.5"
  }
 },
 "nbformat": 4,
 "nbformat_minor": 4
}
