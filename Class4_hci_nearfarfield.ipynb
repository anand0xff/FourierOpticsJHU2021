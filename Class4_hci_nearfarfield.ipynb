{
 "cells": [
  {
   "cell_type": "markdown",
   "metadata": {},
   "source": [
    "### Near and far-field diffraction\n",
    "\n",
    "NB cut-n-paste from example in [docs.hcipy.org](https://docs.hcipy.org/0.4.0/tutorials/NearFarFieldDiffraction/NearFarFieldDiffraction.html)\n",
    "\n",
    "\n",
    "We will demonstrate the near and far-field propagators in HCIPy. We’ll use both a circular aperture and the LUVOIR-A telescope pupil as example pupils.\n",
    "\n",
    "We first start by importing the relevant python modules."
   ]
  },
  {
   "cell_type": "code",
   "execution_count": null,
   "metadata": {},
   "outputs": [],
   "source": [
    "from hcipy import *\n",
    "\n",
    "import numpy as np\n",
    "import matplotlib.pyplot as plt\n",
    "\n",
    "%matplotlib inline"
   ]
  },
  {
   "cell_type": "markdown",
   "metadata": {},
   "source": [
    "To make life simpler later on, we define a function to nicely show two fields side-to-side, with a nice spacing, titles and axes labels.\n",
    "\n"
   ]
  },
  {
   "cell_type": "code",
   "execution_count": null,
   "metadata": {},
   "outputs": [],
   "source": [
    "def double_plot(a, b, title='', xlabel='', ylabel='', **kwargs):\n",
    "    '''A function to nicely show two fields side-to-side.\n",
    "    '''\n",
    "    fig, axes = plt.subplots(1, 2, gridspec_kw={'left': 0.14, 'right': 0.98, 'top': 0.95, 'bottom': 0.07, 'wspace': 0.02})\n",
    "    fig.suptitle(title)\n",
    "\n",
    "    imshow_field(a, **kwargs, ax=axes[0])\n",
    "    imshow_field(b, **kwargs, ax=axes[1])\n",
    "\n",
    "    axes[1].yaxis.set_ticks([])\n",
    "    axes[0].set_xlabel(xlabel)\n",
    "    axes[1].set_xlabel(xlabel)\n",
    "    axes[0].set_ylabel(ylabel)\n",
    "\n",
    "    return fig"
   ]
  },
  {
   "cell_type": "markdown",
   "metadata": {},
   "source": [
    "Now we can create the pupils. Each pupil will have the same diameter of 3mm, and we’ll use a wavelength of 500nm. Each pupil is evaluated with supersampling, meaning that the value at each pixel will be the average of, in our case, 8x8=64 subpixels. We’ll use 256 pixels across and enlarge the pupil plane slightly to be able to see the details in the near-field diffraction just outside of the pupil."
   ]
  },
  {
   "cell_type": "code",
   "execution_count": null,
   "metadata": {},
   "outputs": [],
   "source": [
    "pupil_diameter = 3e-3 # meter\n",
    "wavelength = 500e-9 # meter\n",
    "\n",
    "pupil_grid = make_pupil_grid(256, 1.2 * pupil_diameter)\n",
    "aperture_circ = evaluate_supersampled(circular_aperture(pupil_diameter), pupil_grid, 8)\n",
    "\n",
    "aperture_luvoir = evaluate_supersampled(make_luvoir_a_aperture(True), pupil_grid.scaled(1 / pupil_diameter), 8)\n",
    "aperture_luvoir.grid = pupil_grid\n",
    "\n",
    "wf_circ = Wavefront(aperture_circ, wavelength)\n",
    "wf_luvoir = Wavefront(aperture_luvoir, wavelength)"
   ]
  },
  {
   "cell_type": "markdown",
   "metadata": {},
   "source": [
    "And plotting both apertures next to each other:"
   ]
  },
  {
   "cell_type": "code",
   "execution_count": null,
   "metadata": {},
   "outputs": [],
   "source": [
    "double_plot(aperture_circ, aperture_luvoir,\n",
    "            xlabel='x [mm]', ylabel='y [mm]',\n",
    "            grid_units=1e-3, cmap='gray')\n",
    "plt.show()"
   ]
  },
  {
   "cell_type": "markdown",
   "metadata": {},
   "source": [
    "### Near-field propagation\n",
    "Near-field diffraction is used for propagation of waves in the near field. In HCIPy we have currently two propagators for simulating near-field diffraction. We will only use the  class:FresnelPropagator. This propagator uses the paraxial Fresnel approximation to propagate a :class:[Wavefront](class:Wavefront). We can create the propagator as follows:\n",
    "\n"
   ]
  },
  {
   "cell_type": "code",
   "execution_count": null,
   "metadata": {},
   "outputs": [],
   "source": [
    "propagation_distance = 0.1 # meter\n",
    "\n",
    "fresnel = FresnelPropagator(pupil_grid, propagation_distance)"
   ]
  },
  {
   "cell_type": "markdown",
   "metadata": {},
   "source": [
    "Afterwards we can simply propagate a wavefront through the created Fresnel propagator by calling it with the wavefront. Alternatively, you can also call the propagator.forward() or propagator.backward() functions for forward and backward propagation."
   ]
  },
  {
   "cell_type": "code",
   "execution_count": null,
   "metadata": {},
   "outputs": [],
   "source": [
    "img_circ = fresnel(wf_circ)\n",
    "img_luvoir = fresnel(wf_luvoir)"
   ]
  },
  {
   "cell_type": "markdown",
   "metadata": {},
   "source": [
    "And plotting the result."
   ]
  },
  {
   "cell_type": "code",
   "execution_count": null,
   "metadata": {},
   "outputs": [],
   "source": [
    "double_plot(img_circ.intensity, img_luvoir.intensity,\n",
    "            xlabel='x [mm]', ylabel='y [mm]',\n",
    "            vmax=2, cmap='inferno', grid_units=1e-3)\n",
    "plt.show()"
   ]
  },
  {
   "cell_type": "markdown",
   "metadata": {},
   "source": [
    "We can modify the distance by changing the **distance** parameter of the propagator. Alternatively, we can create a new :class:FresnelPropagator object using the new distance."
   ]
  },
  {
   "cell_type": "code",
   "execution_count": null,
   "metadata": {},
   "outputs": [],
   "source": [
    "fresnel.distance = 1 # meter\n",
    "\n",
    "img_circ = fresnel(wf_circ)\n",
    "img_luvoir = fresnel(wf_luvoir)\n",
    "\n",
    "double_plot(img_circ.intensity, img_luvoir.intensity,\n",
    "            xlabel='x [mm]', ylabel='y [mm]',\n",
    "            vmax=2, cmap='inferno', grid_units=1e-3)\n",
    "plt.show()"
   ]
  },
  {
   "cell_type": "markdown",
   "metadata": {},
   "source": [
    "It’s always nice to see the full transition from near-field to far-field diffraction. We’ll make an animation to slowly transition from 0 to 20 meters."
   ]
  },
  {
   "cell_type": "code",
   "execution_count": null,
   "metadata": {},
   "outputs": [],
   "source": [
    "def easing(start, end, n):\n",
    "    x = np.linspace(0, 1, n)\n",
    "    y = np.where(x < 0.5, 4 * x**3, 1 - 4 * (1 - x)**3)\n",
    "\n",
    "    return y * (end - start) + start\n",
    "\n",
    "# Setting up the propagation distances in the animation\n",
    "n = 35\n",
    "propagation_distances = np.concatenate([easing(0, 0.1, n),\n",
    "                                        easing(0.1, 1, n),\n",
    "                                        easing(1, 5, n),\n",
    "                                        easing(5, 20, n),\n",
    "                                        easing(20, 0, 2 * n)])\n",
    "\n",
    "# Starting the animation object to write to an mp4 file.\n",
    "anim = FFMpegWriter('near_field.mp4', framerate=11)\n",
    "\n",
    "for propagation_distance in propagation_distances:\n",
    "    # Set the propagation distance\n",
    "    fresnel.distance = propagation_distance\n",
    "\n",
    "    # Propagate both wavefronts\n",
    "    img_circ = fresnel(wf_circ)\n",
    "    img_luvoir = fresnel(wf_luvoir)\n",
    "\n",
    "    # Plotting the current frame of the animation.\n",
    "    double_plot(img_circ.intensity, img_luvoir.intensity,\n",
    "                title='Distance: %.3f meter' % propagation_distance,\n",
    "                xlabel='x [mm]', ylabel='y [mm]',\n",
    "                vmax=2, cmap='inferno', grid_units=1e-3)\n",
    "\n",
    "    # Adding the frame to the mp4 file and closing the created figure.\n",
    "    anim.add_frame()\n",
    "    plt.close()\n",
    "\n",
    "anim.close()\n",
    "\n",
    "anim"
   ]
  },
  {
   "cell_type": "markdown",
   "metadata": {},
   "source": [
    "### Far-field propagation\n",
    "Far-field diffraction uses the Fraunhofer approximation to propagate waves. In high-contrast imaging, we often use lenses or mirrors with a specified focal length to focus the light from a pupil plane into a focal plane. In HCIPy we can do the same thing with a :class:FraunhoferPropagator object. This propagator propagates from a pupil to a focal plane with a perfect lens.\n",
    "\n",
    "First we have to define our focal length and the sampling of the focal plane that we want to get out."
   ]
  },
  {
   "cell_type": "code",
   "execution_count": null,
   "metadata": {},
   "outputs": [],
   "source": [
    "focal_length = 0.5 # meter\n",
    "\n",
    "spatial_resolution = focal_length / pupil_diameter * wavelength\n",
    "focal_grid = make_focal_grid(8, 12, spatial_resolution=spatial_resolution)"
   ]
  },
  {
   "cell_type": "markdown",
   "metadata": {},
   "source": [
    "Then we can create our :class:FraunhoferPropagator object and pass the pupil and focal grids, and the focal length of its perfect lens."
   ]
  },
  {
   "cell_type": "code",
   "execution_count": null,
   "metadata": {},
   "outputs": [],
   "source": [
    "fraunhofer = FraunhoferPropagator(pupil_grid, focal_grid, focal_length=focal_length)"
   ]
  },
  {
   "cell_type": "markdown",
   "metadata": {},
   "source": [
    "Then we can propagate our wavefronts and plot the resulting images as usual."
   ]
  },
  {
   "cell_type": "code",
   "execution_count": null,
   "metadata": {},
   "outputs": [],
   "source": [
    "img_circ = fraunhofer(wf_circ)\n",
    "img_luvoir = fraunhofer(wf_luvoir)\n",
    "\n",
    "double_plot(img_circ.power, img_luvoir.power,\n",
    "            xlabel='x [um]', ylabel='y [um]',\n",
    "            cmap='inferno', grid_units=1e-6)\n",
    "plt.show()"
   ]
  },
  {
   "cell_type": "markdown",
   "metadata": {},
   "source": [
    "Due to the contrast in the focal plane, there is barely any difference between the two telescope pupils. We can make this clearer by showing the images on a logarithmic scale."
   ]
  },
  {
   "cell_type": "code",
   "execution_count": null,
   "metadata": {},
   "outputs": [],
   "source": [
    "double_plot(np.log10(img_circ.power / img_circ.power.max()), np.log10(img_luvoir.power / img_luvoir.power.max()),\n",
    "            xlabel='x [um]', ylabel='y [um]',\n",
    "            vmin=-6, cmap='inferno', grid_units=1e-6)\n",
    "plt.show()"
   ]
  },
  {
   "cell_type": "markdown",
   "metadata": {},
   "source": [
    "Changing the focal length is as simple as modifying the focal_length parameter, or we can create a new propagator with the new focal length. The PSF shrinks with a smaller focal length of 30cm."
   ]
  },
  {
   "cell_type": "code",
   "execution_count": null,
   "metadata": {},
   "outputs": [],
   "source": [
    "fraunhofer.focal_length = 0.3 # m\n",
    "\n",
    "img_circ = fraunhofer(wf_circ)\n",
    "img_luvoir = fraunhofer(wf_luvoir)\n",
    "\n",
    "double_plot(np.log10(img_circ.power / img_circ.power.max()), np.log10(img_luvoir.power / img_luvoir.power.max()),\n",
    "            xlabel='x [um]', ylabel='y [um]',\n",
    "            vmin=-6, cmap='inferno', grid_units=1e-6)\n",
    "plt.show()"
   ]
  },
  {
   "cell_type": "markdown",
   "metadata": {},
   "source": [
    "Changing the wavelength is done by changing wavelength parameter of the :class:Wavefront objects that are passed to the propagators. With a smaller wavelength of 350nm, our PSFs will shrink even more."
   ]
  },
  {
   "cell_type": "code",
   "execution_count": null,
   "metadata": {},
   "outputs": [],
   "source": [
    "wf_circ.wavelength = 350e-9 # meter\n",
    "wf_luvoir.wavelength = 350e-9 # meter\n",
    "\n",
    "img_circ = fraunhofer(wf_circ)\n",
    "img_luvoir = fraunhofer(wf_luvoir)\n",
    "\n",
    "double_plot(np.log10(img_circ.power / img_circ.power.max()), np.log10(img_luvoir.power / img_luvoir.power.max()),\n",
    "            xlabel='x [um]', ylabel='y [um]',\n",
    "            vmin=-6, cmap='inferno', grid_units=1e-6)\n",
    "plt.show()"
   ]
  },
  {
   "cell_type": "markdown",
   "metadata": {},
   "source": [
    "Of course, we can easily create an animation of the PSF changes with wavelength."
   ]
  },
  {
   "cell_type": "code",
   "execution_count": null,
   "metadata": {},
   "outputs": [],
   "source": [
    "fraunhofer.focal_length = 0.5 # meter\n",
    "\n",
    "n = 50\n",
    "wavelength_max = 700e-9\n",
    "wavelength_min = 350e-9\n",
    "\n",
    "wavelengths = np.concatenate([easing(wavelength_min, wavelength_max, n),\n",
    "                              easing(wavelength_max, wavelength_min, n)])\n",
    "\n",
    "anim = FFMpegWriter('far_field.mp4', framerate=15)\n",
    "\n",
    "for wl in wavelengths:\n",
    "    wf_circ.wavelength = wl\n",
    "    wf_luvoir.wavelength = wl\n",
    "\n",
    "    img_circ = fraunhofer(wf_circ)\n",
    "    img_luvoir = fraunhofer(wf_luvoir)\n",
    "\n",
    "    double_plot(np.log10(img_circ.power / img_circ.power.max()), np.log10(img_luvoir.power / img_luvoir.power.max()),\n",
    "                title='Wavelength: %d nm' % (wl * 1e9),\n",
    "                xlabel='x [um]', ylabel='y [um]',\n",
    "                vmin=-6, cmap='inferno', grid_units=1e-6)\n",
    "\n",
    "    anim.add_frame()\n",
    "    plt.close()\n",
    "\n",
    "anim.close()\n",
    "\n",
    "anim"
   ]
  },
  {
   "cell_type": "code",
   "execution_count": null,
   "metadata": {},
   "outputs": [],
   "source": [
    "# Cleanup created files\n",
    "import os\n",
    "\n",
    "os.remove('near_field.mp4')\n",
    "os.remove('far_field.mp4')"
   ]
  },
  {
   "cell_type": "code",
   "execution_count": null,
   "metadata": {},
   "outputs": [],
   "source": []
  }
 ],
 "metadata": {
  "kernelspec": {
   "display_name": "Python 3",
   "language": "python",
   "name": "python3"
  },
  "language_info": {
   "codemirror_mode": {
    "name": "ipython",
    "version": 3
   },
   "file_extension": ".py",
   "mimetype": "text/x-python",
   "name": "python",
   "nbconvert_exporter": "python",
   "pygments_lexer": "ipython3",
   "version": "3.8.5"
  }
 },
 "nbformat": 4,
 "nbformat_minor": 4
}
