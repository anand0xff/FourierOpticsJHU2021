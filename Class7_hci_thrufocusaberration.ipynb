{
 "cells": [
  {
   "cell_type": "markdown",
   "metadata": {},
   "source": [
    "### Through-focus image\n",
    "\n",
    "\n",
    "    # Un-debugged snippet from Emiel Por to create Gaussian phase bump\n",
    "    phase_bump_pos = [0.2, 0.2]\n",
    "    phase_bump_rms = pupil_diameter / 10\n",
    "    phase_bump_amp = 0.75. # about pi/4\n",
    "\n",
    "    phase_bump = phase_bump_amp * np.exp(-((pupil_grid.x - phase_bump_pos[0])**2 + \\\n",
    "                                           (pupil_grid.y -phase_bump_pos[1])**2) / \\\n",
    "                                              (2 * phase_bump_rms**2))\n",
    "\n",
    "    aberration = np.exp(1j * phase_bump)\n",
    "\n",
    "    wf = Wavefront(...)\n",
    "\n",
    "    # Manually apply aberration:\n",
    "    wf.electric_field *= aberration\n"
   ]
  },
  {
   "cell_type": "code",
   "execution_count": null,
   "metadata": {},
   "outputs": [],
   "source": [
    "from hcipy import *\n",
    "\n",
    "import numpy as np\n",
    "import matplotlib.pyplot as plt\n",
    "import os\n",
    "\n",
    "%matplotlib inline"
   ]
  },
  {
   "cell_type": "markdown",
   "metadata": {},
   "source": [
    "To make life simpler later on, we define a function to nicely show two fields side-to-side, with a nice spacing, titles and axes labels.\n",
    "\n"
   ]
  },
  {
   "cell_type": "code",
   "execution_count": null,
   "metadata": {},
   "outputs": [],
   "source": [
    "def double_plot(a, b, title='', xlabel='', ylabel='', figsize=(10,6),  **kwargs):\n",
    "    '''A function to nicely show two fields side-to-side.\n",
    "    '''\n",
    "    fig, axes = plt.subplots(1, 2, \n",
    "                            gridspec_kw={'left': 0.14, 'right': 0.98, 'top': 0.95, 'bottom': 0.07, 'wspace': 0.02},\n",
    "                            figsize=figsize)\n",
    "    fig.suptitle(title)\n",
    "\n",
    "    imshow_field(a, **kwargs, ax=axes[0])\n",
    "    imshow_field(b, **kwargs, ax=axes[1])\n",
    "\n",
    "    axes[1].yaxis.set_ticks([])\n",
    "    axes[0].set_xlabel(xlabel)\n",
    "    axes[1].set_xlabel(xlabel)\n",
    "    axes[0].set_ylabel(ylabel)\n",
    "\n",
    "    return fig"
   ]
  },
  {
   "cell_type": "code",
   "execution_count": null,
   "metadata": {},
   "outputs": [],
   "source": []
  },
  {
   "cell_type": "code",
   "execution_count": null,
   "metadata": {},
   "outputs": [],
   "source": [
    "def easing(start, end, n):\n",
    "    x = np.linspace(0, 1, n)\n",
    "    y = np.where(x < 0.5, 4 * x**3, 1 - 4 * (1 - x)**3)\n",
    "\n",
    "    return y * (end - start) + start\n",
    "\n"
   ]
  },
  {
   "cell_type": "markdown",
   "metadata": {},
   "source": [
    "### Far-field propagation through focus\n",
    "We simulate moving through the focal plane by using steps of defocus - a quadratic phase aberration in the pupil - which keeps the image pixel scale the same through focus.(Moving the detector changes the scale, a slight complication we ignore here.  But if you move your lens or detector, remember to change your image plane pixel scale!)\n",
    "\n",
    "First we recreate a pupil and pupil grid to suit, and a perfect wavefront for the two geometries"
   ]
  },
  {
   "cell_type": "code",
   "execution_count": null,
   "metadata": {},
   "outputs": [],
   "source": [
    "pupil_diameter = 1.0 # meter\n",
    "wavelength = 5e-6 # meter\n",
    "focal_length = 5.0 # m\n",
    "\n",
    "# size the pupil exactly to pupil diameter\n",
    "pupil_grid = make_pupil_grid(256, 1.0 * pupil_diameter)\n",
    "aperture_circ = evaluate_supersampled(circular_aperture(pupil_diameter), pupil_grid, 8)\n",
    "\n",
    "aperture_luvoir = evaluate_supersampled(make_luvoir_a_aperture(True), pupil_grid.scaled(1 / pupil_diameter), 8)\n",
    "aperture_luvoir.grid = pupil_grid\n",
    "\n",
    "\n",
    "wf_circ = Wavefront(aperture_circ, wavelength)\n",
    "wf_luvoir = Wavefront(aperture_luvoir, wavelength)\n",
    "\n",
    "spatial_resolution = focal_length / pupil_diameter * wavelength\n",
    "focal_grid = make_focal_grid(8, 12, spatial_resolution=spatial_resolution)\n",
    "\n",
    "fraunhofer = FraunhoferPropagator(pupil_grid, focal_grid, focal_length=focal_length)"
   ]
  },
  {
   "cell_type": "code",
   "execution_count": null,
   "metadata": {},
   "outputs": [],
   "source": [
    "double_plot(aperture_circ, aperture_luvoir,\n",
    "            xlabel='x [mm]', ylabel='y [mm]',\n",
    "            grid_units=1e-3, cmap='gray')\n",
    "plt.show()"
   ]
  },
  {
   "cell_type": "code",
   "execution_count": null,
   "metadata": {},
   "outputs": [],
   "source": [
    "# Quadratic bowl with max value 1 at pupil edges (more or less with the non-circlar geometry): Peak-to-Valley\n",
    "# Actual max at square array corners will be 2, but the corners are not illuminated...\n",
    "pupil_radius = pupil_diameter / 2.0\n",
    "quadratic_PVunity = (pupil_grid.x/pupil_radius)**2 + (pupil_grid.y/pupil_radius)**2\n",
    "\n",
    "print(pupil_grid.x.max(), pupil_grid.x.min(), quadratic_PVunity.max())\n"
   ]
  },
  {
   "cell_type": "code",
   "execution_count": null,
   "metadata": {},
   "outputs": [],
   "source": [
    "def create_supergaussian_phase_bump(pos=(0.2, 0.1), rms=0.1, amp=1.0):\n",
    "    # Create a super-Gaussian bump array - purely numerical \n",
    "    phase_bump_pos = pos # center of bump in pupil coords (qn: +/- 0.5 range?)\n",
    "    phase_bump_rms = pupil_diameter * rms # width of Gaussian\n",
    "    phase_bump_amp = amp #radians\n",
    "\n",
    "    phase_bump = phase_bump_amp * np.exp(-((pupil_grid.x - phase_bump_pos[0])**6 + \\\n",
    "                                           (pupil_grid.y -phase_bump_pos[1])**6) / \\\n",
    "                                              (2 * phase_bump_rms**6))\n",
    "\n",
    "    #print(\"phase bump max & min: \", phase_bump.max(), phase_bump.min())\n",
    "    return phase_bump"
   ]
  },
  {
   "cell_type": "code",
   "execution_count": null,
   "metadata": {},
   "outputs": [],
   "source": [
    "# Create a phase bump\n",
    "phase = create_supergaussian_phase_bump(amp=2.0)\n",
    " \n",
    "    \n",
    "wf_circ = Wavefront(aperture_circ, wavelength)\n",
    "wf_luvoir = Wavefront(aperture_luvoir, wavelength)\n",
    "\n",
    "wf_circ_aberrated = wf_circ\n",
    "wf_circ_aberrated.electric_field *= np.exp(1j * phase)\n",
    "    \n",
    "wf_luvoir_aberrated = wf_luvoir\n",
    "wf_luvoir_aberrated.electric_field *= np.exp(1j * phase)\n",
    "\n",
    "imshow_pupil_phase(wf_circ_aberrated.electric_field,\n",
    "                           )\n",
    "\n",
    "plt.show()"
   ]
  },
  {
   "cell_type": "code",
   "execution_count": null,
   "metadata": {},
   "outputs": [],
   "source": [
    "n = 16\n",
    "defocusPV_waves = np.concatenate([easing(-3, -1, n),\n",
    "                                  easing(-1,  1, n),\n",
    "                                  easing( 1,  3, n),])\n",
    "\n",
    "print(defocusPV_waves.max(), defocusPV_waves.min())\n",
    "\n",
    "#img_circ = fraunhofer(wf_circ)\n",
    "#img_luvoir = fraunhofer(wf_luvoir)\n",
    "\n",
    "\n",
    "# Starting the animation object to write to an mp4 file.\n",
    "anim = FFMpegWriter('throughfocus.mp4', framerate=5)\n",
    "\n",
    "for defocus in defocusPV_waves[::-1]:\n",
    "    print(\".\", end='')\n",
    "    #print('defocus/waves: ', defocus, ' ', end='')\n",
    "    phase = 2 * np.pi * defocus * quadratic_PVunity \\\n",
    "          + create_supergaussian_phase_bump(amp=2)\n",
    "    #print('phase: ', phase.max())\n",
    " \n",
    "    \n",
    "    wf_circ = Wavefront(aperture_circ, wavelength)\n",
    "    wf_luvoir = Wavefront(aperture_luvoir, wavelength)\n",
    "\n",
    "    wf_circ_aberrated = wf_circ\n",
    "    wf_circ_aberrated.electric_field *= np.exp(1j * phase)\n",
    "    \n",
    "    wf_luvoir_aberrated = wf_luvoir\n",
    "    wf_luvoir_aberrated.electric_field *= np.exp(1j * phase)\n",
    "    \n",
    "    img_circ = fraunhofer(wf_circ_aberrated)\n",
    "    img_luvoir = fraunhofer(wf_luvoir_aberrated)\n",
    "\n",
    "    fig = double_plot(np.power(img_circ.power / img_circ.power.max(), 0.4), \n",
    "                np.power(img_luvoir.power / img_luvoir.power.max(), 0.4),\n",
    "                title='Wavelength: %d um' % (wavelength * 1e6),\n",
    "                xlabel='x [um]', ylabel='y [um]',\n",
    "                cmap='inferno', grid_units=1e-6)\n",
    "    fig.set_figheight(10)\n",
    "    anim.add_frame()\n",
    "    plt.close()\n",
    "\n",
    "anim.close()\n",
    "\n",
    "anim\n"
   ]
  },
  {
   "cell_type": "code",
   "execution_count": null,
   "metadata": {},
   "outputs": [],
   "source": [
    "# Cleanup created files\n",
    "os.remove('throughfocus.mp4')"
   ]
  },
  {
   "cell_type": "code",
   "execution_count": null,
   "metadata": {},
   "outputs": [],
   "source": []
  }
 ],
 "metadata": {
  "kernelspec": {
   "display_name": "Python 3",
   "language": "python",
   "name": "python3"
  },
  "language_info": {
   "codemirror_mode": {
    "name": "ipython",
    "version": 3
   },
   "file_extension": ".py",
   "mimetype": "text/x-python",
   "name": "python",
   "nbconvert_exporter": "python",
   "pygments_lexer": "ipython3",
   "version": "3.8.5"
  }
 },
 "nbformat": 4,
 "nbformat_minor": 4
}
